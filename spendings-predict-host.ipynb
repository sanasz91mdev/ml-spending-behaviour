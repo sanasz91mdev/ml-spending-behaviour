{
 "cells": [
  {
   "cell_type": "code",
   "execution_count": 2,
   "metadata": {},
   "outputs": [
    {
     "name": "stdout",
     "output_type": "stream",
     "text": [
      " * Serving Flask app '__main__'\n",
      " * Debug mode: on\n"
     ]
    },
    {
     "name": "stderr",
     "output_type": "stream",
     "text": [
      "WARNING: This is a development server. Do not use it in a production deployment. Use a production WSGI server instead.\n",
      " * Running on http://127.0.0.1:5000\n",
      "Press CTRL+C to quit\n",
      " * Restarting with stat\n"
     ]
    },
    {
     "ename": "SystemExit",
     "evalue": "1",
     "output_type": "error",
     "traceback": [
      "An exception has occurred, use %tb to see the full traceback.\n",
      "\u001b[1;31mSystemExit\u001b[0m\u001b[1;31m:\u001b[0m 1\n"
     ]
    },
    {
     "name": "stderr",
     "output_type": "stream",
     "text": [
      "C:\\Users\\sana_\\AppData\\Roaming\\Python\\Python311\\site-packages\\IPython\\core\\interactiveshell.py:3468: UserWarning: To exit: use 'exit', 'quit', or Ctrl-D.\n",
      "  warn(\"To exit: use 'exit', 'quit', or Ctrl-D.\", stacklevel=1)\n"
     ]
    }
   ],
   "source": [
    "# Import libraries\n",
    "import pandas as pd\n",
    "from sklearn.ensemble import RandomForestClassifier\n",
    "from sklearn.preprocessing import LabelEncoder\n",
    "from flask import Flask, jsonify, request\n",
    "\n",
    "# Load data\n",
    "data = pd.read_csv('./data-small-more-patterns.csv')\n",
    "\n",
    "# Separate features and target variable\n",
    "X = data.drop(['Target-MCC1'], axis=1)\n",
    "y = data['Target-MCC1']\n",
    "\n",
    "# Label encode categorical features\n",
    "cat_features = ['AgeGroup', 'MaritalStatus', 'Day', 'Gender', 'City']\n",
    "for feature in cat_features:\n",
    "    le = LabelEncoder()\n",
    "    X[feature] = le.fit_transform(X[feature])\n",
    "\n",
    "# Train model\n",
    "model = RandomForestClassifier(n_estimators=100, random_state=42)\n",
    "model.fit(X, y)\n",
    "\n",
    "# Initialize Flask app\n",
    "app = Flask(__name__)\n",
    "\n",
    "# Define API endpoint for making predictions\n",
    "@app.route('/predict', methods=['POST'])\n",
    "def predict():\n",
    "    # Get data from request\n",
    "    data = request.get_json()\n",
    "    data = pd.DataFrame.from_dict(data)\n",
    "    \n",
    "    # Label encode categorical features\n",
    "    for feature in cat_features:\n",
    "        le = LabelEncoder()\n",
    "        data[feature] = le.fit_transform(data[feature])\n",
    "    \n",
    "    # Make prediction using trained model\n",
    "    pred = model.predict(data)\n",
    "    \n",
    "    # Return prediction as JSON\n",
    "    return jsonify({'prediction': list(pred)})\n",
    "\n",
    "# Start Flask app\n",
    "if __name__ == '__main__':\n",
    "    app.run(debug=True)\n"
   ]
  },
  {
   "cell_type": "code",
   "execution_count": 10,
   "metadata": {},
   "outputs": [
    {
     "name": "stdout",
     "output_type": "stream",
     "text": [
      "[7832]\n"
     ]
    }
   ],
   "source": [
    "import requests\n",
    "\n",
    "# Define input data\n",
    "# data = {\n",
    "#     'AgeGroup': '40',\n",
    "#     'MaritalStatus': 'Married',\n",
    "#     'Day': 'Weekday',\n",
    "#     'Gender': 'F',\n",
    "#     'City': 'KHI',\n",
    "#     'Avg7832': '10',\n",
    "#     'Avg5411': '20',\n",
    "#     'Avg5812': '40',\n",
    "#     'Avg7032': '10',\n",
    "#     'Avg5983': '5',\n",
    "#     'Avg4111': '5',\n",
    "#     'Avg5999': '5',\n",
    "#     'Avg5691': '0',\n",
    "#     'Avg4814': '0',\n",
    "#     'Avg5621': '45'\n",
    "# }\n",
    "\n",
    "\n",
    "data = {\n",
    "    'AgeGroup': ['30'],\n",
    "    'MaritalStatus': ['Single'],\n",
    "    'Day': ['Weekday'],\n",
    "    'Gender': ['M'],\n",
    "    'City': ['ISL'],\n",
    "    'Avg-7832': ['0'],\n",
    "    'Avg-5411': ['0'],\n",
    "    'Avg-5812': ['0'],\n",
    "    'Avg-7032': ['0'],\n",
    "    'Avg-5983': ['0'],\n",
    "    'Avg-4111': ['0'],\n",
    "    'Avg-5999': ['0'],\n",
    "    'Avg-5691': ['0'],\n",
    "    'Avg-4814':['0'],\n",
    "    'Avg-5621': ['0']\n",
    "}\n",
    "\n",
    "\n",
    "\n",
    "\n",
    "# Send POST request to Flask app\n",
    "response = requests.post('http://localhost:5000/predict', json=data)\n",
    "\n",
    "# Print prediction from response\n",
    "print(response.json()['prediction'])\n"
   ]
  }
 ],
 "metadata": {
  "kernelspec": {
   "display_name": "Python 3",
   "language": "python",
   "name": "python3"
  },
  "language_info": {
   "codemirror_mode": {
    "name": "ipython",
    "version": 3
   },
   "file_extension": ".py",
   "mimetype": "text/x-python",
   "name": "python",
   "nbconvert_exporter": "python",
   "pygments_lexer": "ipython3",
   "version": "3.11.2"
  },
  "orig_nbformat": 4
 },
 "nbformat": 4,
 "nbformat_minor": 2
}
