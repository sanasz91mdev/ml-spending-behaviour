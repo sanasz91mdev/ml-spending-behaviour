{
 "cells": [
  {
   "cell_type": "code",
   "execution_count": 2,
   "metadata": {},
   "outputs": [
    {
     "name": "stdout",
     "output_type": "stream",
     "text": [
      " * Serving Flask app '__main__'\n",
      " * Debug mode: on\n"
     ]
    },
    {
     "name": "stderr",
     "output_type": "stream",
     "text": [
      "WARNING: This is a development server. Do not use it in a production deployment. Use a production WSGI server instead.\n",
      " * Running on http://127.0.0.1:5000\n",
      "Press CTRL+C to quit\n",
      " * Restarting with stat\n"
     ]
    },
    {
     "ename": "SystemExit",
     "evalue": "1",
     "output_type": "error",
     "traceback": [
      "An exception has occurred, use %tb to see the full traceback.\n",
      "\u001b[1;31mSystemExit\u001b[0m\u001b[1;31m:\u001b[0m 1\n"
     ]
    },
    {
     "name": "stderr",
     "output_type": "stream",
     "text": [
      "C:\\Users\\sana_\\AppData\\Roaming\\Python\\Python311\\site-packages\\IPython\\core\\interactiveshell.py:3468: UserWarning: To exit: use 'exit', 'quit', or Ctrl-D.\n",
      "  warn(\"To exit: use 'exit', 'quit', or Ctrl-D.\", stacklevel=1)\n"
     ]
    }
   ],
   "source": [
    "# Import libraries\n",
    "import pandas as pd\n",
    "from sklearn.ensemble import RandomForestClassifier\n",
    "from sklearn.preprocessing import LabelEncoder\n",
    "from flask import Flask, jsonify, request\n",
    "\n",
    "# Load data\n",
    "data = pd.read_csv('./data-small-more-patterns.csv')\n",
    "\n",
    "# Separate features and target variable\n",
    "X = data.drop(['Target-MCC1'], axis=1)\n",
    "y = data['Target-MCC1']\n",
    "\n",
    "# Label encode categorical features\n",
    "cat_features = ['AgeGroup', 'MaritalStatus', 'Day', 'Gender', 'City']\n",
    "for feature in cat_features:\n",
    "    le = LabelEncoder()\n",
    "    X[feature] = le.fit_transform(X[feature])\n",
    "\n",
    "# Train model\n",
    "model = RandomForestClassifier(n_estimators=100, random_state=42)\n",
    "model.fit(X, y)\n",
    "\n",
    "# Initialize Flask app\n",
    "app = Flask(__name__)\n",
    "\n",
    "# Define API endpoint for making predictions\n",
    "@app.route('/predict', methods=['POST'])\n",
    "def predict():\n",
    "    # Get data from request\n",
    "    data = request.get_json()\n",
    "    data = pd.DataFrame.from_dict(data)\n",
    "    \n",
    "    # Label encode categorical features\n",
    "    for feature in cat_features:\n",
    "        le = LabelEncoder()\n",
    "        data[feature] = le.fit_transform(data[feature])\n",
    "    \n",
    "    # Make prediction using trained model\n",
    "    pred = model.predict(data)\n",
    "    \n",
    "    # Return prediction as JSON\n",
    "    return jsonify({'prediction': list(pred)})\n",
    "\n",
    "# Start Flask app\n",
    "if __name__ == '__main__':\n",
    "    app.run(debug=True)\n"
   ]
  },
  {
   "cell_type": "code",
   "execution_count": 12,
   "metadata": {},
   "outputs": [
    {
     "name": "stdout",
     "output_type": "stream",
     "text": [
      "AgeGroup: 0.007335352846323242\n",
      "MaritalStatus: 0.003780795258948365\n",
      "Day: 0.006009442644614128\n",
      "Gender: 0.004859433183447916\n",
      "City: 0.006545369156478366\n",
      "Avg-7832: 0.46691761668599463\n",
      "Avg-5411: 0.03854568023937666\n",
      "Avg-5812: 0.01321235913167839\n",
      "Avg-7032: 0.2247785109812169\n",
      "Avg-5983: 0.01376515795764316\n",
      "Avg-4111: 0.10336592425084284\n",
      "Avg-5999: 0.03103362660596684\n",
      "Avg-5691: 0.016577535325028935\n",
      "Avg-4814: 0.013617798502985055\n",
      "Avg-5621: 0.04965539722945451\n"
     ]
    }
   ],
   "source": [
    "import pandas as pd\n",
    "from sklearn.ensemble import RandomForestClassifier\n",
    "from sklearn.preprocessing import LabelEncoder\n",
    "from sklearn.ensemble import RandomForestRegressor\n",
    "from sklearn.model_selection import train_test_split\n",
    "\n",
    "# Load data\n",
    "data = pd.read_csv('./Data_2000_SA.csv')\n",
    "\n",
    "# Separate features and target variable\n",
    "X = data.drop(['Target-MCC1'], axis=1)\n",
    "y = data['Target-MCC1']\n",
    "\n",
    "# Label encode categorical features\n",
    "cat_features = ['AgeGroup', 'MaritalStatus', 'Day', 'Gender', 'City']\n",
    "le_dict = {}\n",
    "for feature in cat_features:\n",
    "    le = LabelEncoder()\n",
    "    X[feature] = le.fit_transform(X[feature])\n",
    "    le_dict[feature] = le\n",
    "\n",
    "\n",
    "# Load data and split into training and testing sets\n",
    "X_train, X_test, y_train, y_test = train_test_split(X, y, test_size=0.2, random_state=42)\n",
    "\n",
    "# Train random forest model\n",
    "rf = RandomForestRegressor(n_estimators=100, random_state=42)\n",
    "rf.fit(X_train, y_train)\n",
    "\n",
    "# Map feature names to importances\n",
    "feature_names = ['AgeGroup', 'MaritalStatus', 'Day', 'Gender', 'City', \n",
    "                 'Avg-7832', 'Avg-5411', 'Avg-5812', 'Avg-7032', 'Avg-5983',\n",
    "                 'Avg-4111', 'Avg-5999', 'Avg-5691', 'Avg-4814', 'Avg-5621']\n",
    "importances_dict = dict(zip(feature_names, importances))\n",
    "\n",
    "# Print importance scores for each feature\n",
    "for feature, importance in importances_dict.items():\n",
    "    print(f\"{feature}: {importance}\")\n"
   ]
  },
  {
   "cell_type": "code",
   "execution_count": null,
   "metadata": {},
   "outputs": [],
   "source": [
    "# # It is difficult to say whether a feature importance value is \"bad\" or not without more context. \n",
    "# However, the values you have provided suggest that \"Avg-7832\" is the most important feature for predicting the\n",
    "# target variable in the model, followed by \"Avg-7032\" and \"Avg-4111\", while \"MaritalStatus\" and \"Gender\" \n",
    "# have relatively low importance.\n",
    "\n",
    "# # It is important to note that feature importance values should be interpreted relative to each other\n",
    "# #  and the specific context of the problem being solved. A low feature importance value does not necessarily\n",
    "# #  mean that the feature is not useful for prediction, but rather that it may have less predictive power than \n",
    "# # other features in the model. Conversely, a high feature importance value does not necessarily mean that a\n",
    "# #  feature is the most important for prediction in all contexts."
   ]
  },
  {
   "cell_type": "code",
   "execution_count": 3,
   "metadata": {},
   "outputs": [
    {
     "name": "stdout",
     "output_type": "stream",
     "text": [
      "{'predictions': [{'class': '7032', 'probability': '0.88'}, {'class': '5411', 'probability': '0.05'}, {'class': '7832', 'probability': '0.04'}]}\n"
     ]
    }
   ],
   "source": [
    "import requests\n",
    "\n",
    "\n",
    "data = {\n",
    "    'AgeGroup': ['30'],\n",
    "    'MaritalStatus': ['Single'],\n",
    "    'Day': ['Weekday'],\n",
    "    'Gender': ['M'],\n",
    "    'City': ['ISL'],\n",
    "    'Avg-7832': ['0'],\n",
    "    'Avg-5411': ['10'],\n",
    "    'Avg-5812': ['0'],\n",
    "    'Avg-7032': ['70'],\n",
    "    'Avg-5983': ['20'],\n",
    "    'Avg-4111': ['0'],\n",
    "    'Avg-5999': ['0'],\n",
    "    'Avg-5691': ['0'],\n",
    "    'Avg-4814':['0'],\n",
    "    'Avg-5621': ['0']\n",
    "}\n",
    "\n",
    "\n",
    "\n",
    "\n",
    "# Send POST request to Flask app\n",
    "response = requests.post('http://localhost:5000/predict', json=data)\n",
    "\n",
    "# Print prediction from response\n",
    "print(response.json())\n"
   ]
  }
 ],
 "metadata": {
  "kernelspec": {
   "display_name": "Python 3",
   "language": "python",
   "name": "python3"
  },
  "language_info": {
   "codemirror_mode": {
    "name": "ipython",
    "version": 3
   },
   "file_extension": ".py",
   "mimetype": "text/x-python",
   "name": "python",
   "nbconvert_exporter": "python",
   "pygments_lexer": "ipython3",
   "version": "3.11.2"
  },
  "orig_nbformat": 4
 },
 "nbformat": 4,
 "nbformat_minor": 2
}
